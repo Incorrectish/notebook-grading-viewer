{
 "cells": [
  {
   "cell_type": "markdown",
   "metadata": {
    "id": "l3MrNuU_EM60"
   },
   "source": [
    "##### 1.1. Preparation of Training and Testing Sets (2 pts)\n",
    "\n",
    "TASK: We will now **divide our three datasets into training and testing sets**.\n",
    "\n",
    "For this task, you might want utilize the *train_test_split* function from *sklearn*. This step is crucial for preparing our data for the upcoming linear regression modeling, ensuring that we have separate sets for training our models and evaluating their performance.\n"
   ]
  },
  {
   "cell_type": "code",
   "execution_count": 2,
   "metadata": {
    "id": "0MksBbHbEFV4"
   },
   "outputs": [],
   "source": [
    "from sklearn.model_selection import train_test_split\n",
    "\n",
    "# Our datasets\n",
    "X_linear, Y_linear = datasets[\"linear\"]\n",
    "X_convex, Y_convex = datasets[\"convex\"]\n",
    "X_tri, Y_tri = datasets[\"trigonometric\"]\n",
    "\n",
    "random_state = 42\n",
    "np.random.seed(random_state)\n",
    "\n",
    "##### Instruction: You have to define X_*_train, X_*_test, Y_*_train and Y_*_test for each (X,y) pair\n",
    "##### Your Code Below\n",
    "X_linear_train, X_linear_test, Y_linear_train, Y_linear_test = train_test_split(X_linear, Y_linear, test_size=0.2, random_state=random_state)\n",
    "X_convex_train, X_convex_test, Y_convex_train, Y_convex_test = train_test_split(X_convex, Y_convex, test_size=0.2, random_state=random_state)\n",
    "X_tri_train, X_tri_test, Y_tri_train, Y_tri_test = train_test_split(X_tri, Y_tri, test_size=0.2, random_state=random_state)"
   ]
  }
 ],
 "metadata": {
  "colab": {
   "provenance": []
  },
  "kernelspec": {
   "display_name": "Python 3",
   "name": "python3"
  },
  "language_info": {
   "name": "python"
  }
 },
 "nbformat": 4,
 "nbformat_minor": 0
}
